{
 "cells": [
  {
   "cell_type": "code",
   "execution_count": 30,
   "metadata": {},
   "outputs": [],
   "source": [
    "import pandas as pd\n",
    "STATES= pd.Series(['California', \n",
    "                   'OH', \n",
    "                   'Michigan', \n",
    "                   'NY'])"
   ]
  },
  {
   "cell_type": "code",
   "execution_count": 31,
   "metadata": {},
   "outputs": [],
   "source": [
    "# I want 'CA', 'OH', 'MI', 'NY'"
   ]
  },
  {
   "cell_type": "code",
   "execution_count": 32,
   "metadata": {},
   "outputs": [],
   "source": [
    "def clean_state(state):\n",
    "    if len(state)== 2:\n",
    "        return state\n",
    "    elif state == 'Alabama':\n",
    "        return 'AL'\n",
    "    elif state == 'Alaska':\n",
    "        return 'AK'\n",
    "    #...\n",
    "    elif state =='California':\n",
    "        return 'CA'\n",
    "    elif state =='Michigan':\n",
    "        return 'MI'\n",
    "    #..."
   ]
  },
  {
   "cell_type": "code",
   "execution_count": 37,
   "metadata": {},
   "outputs": [],
   "source": [
    "###Long Way###\n",
    "#clean_states = []\n",
    "#for state in states:\n",
    "    #clean_states.append(clean_state(state))\n",
    "#clean_states = pd.Series(clean_state)"
   ]
  },
  {
   "cell_type": "code",
   "execution_count": 38,
   "metadata": {},
   "outputs": [],
   "source": [
    "clean_states_applied = STATES.apply(clean_state)#clean_state is the function"
   ]
  },
  {
   "cell_type": "code",
   "execution_count": 39,
   "metadata": {},
   "outputs": [
    {
     "name": "stdout",
     "output_type": "stream",
     "text": [
      "0    CA\n",
      "1    OH\n",
      "2    MI\n",
      "3    NY\n",
      "dtype: object\n"
     ]
    }
   ],
   "source": [
    "print (clean_states_applied)"
   ]
  },
  {
   "cell_type": "code",
   "execution_count": null,
   "metadata": {},
   "outputs": [],
   "source": [
    "#Exercise: Take a series of names in the format \"Firstname Lastname\"\n",
    "# and put them in the format\"Lastname, Firstname"
   ]
  },
  {
   "cell_type": "code",
   "execution_count": 40,
   "metadata": {},
   "outputs": [],
   "source": [
    "names = pd.Series([\n",
    "    'Andre Agassi',\n",
    "    'Barry Bonds',\n",
    "    'Christopher Columbus',\n",
    "    'Daniel Defoe',\n",
    "    'Emilio Estevez',\n",
    "    'Fred Flintstone',\n",
    "    'Greta Garbo',\n",
    "    'Humbert Humbert',\n",
    "    'Ivan Ilych',\n",
    "    'James Joyce',\n",
    "    'Keira Knightley',\n",
    "    'Lois Lane',\n",
    "    'Mike Myers',\n",
    "    'Nick Nolte',\n",
    "    'Ozzy Osbourne',\n",
    "    'Pablo Picasso',\n",
    "    'Quirinus Quirrell',\n",
    "    'Rachael Ray',\n",
    "    'Susan Sarandon',\n",
    "    'Tina Turner',\n",
    "    'Ugueth Urbina',\n",
    "    'Vince Vaughn',\n",
    "    'Woodrow Wilson',\n",
    "    'Yoji Yamada',\n",
    "    'Zinedine Zidane'\n",
    "])"
   ]
  },
  {
   "cell_type": "code",
   "execution_count": 41,
   "metadata": {},
   "outputs": [],
   "source": [
    "def reverse_name(name):\n",
    "    split_name = name.split(\" \")\n",
    "    firstname = split_name[0]\n",
    "    lastname = split_name[1]\n",
    "    return lastname + \",\" + firstname\n",
    "\n",
    "def reverse_Series(input_series):\n",
    "    return names.apply(reverse_name)"
   ]
  },
  {
   "cell_type": "code",
   "execution_count": 42,
   "metadata": {},
   "outputs": [
    {
     "data": {
      "text/plain": [
       "0             Agassi,Andre\n",
       "1              Bonds,Barry\n",
       "2     Columbus,Christopher\n",
       "3             Defoe,Daniel\n",
       "4           Estevez,Emilio\n",
       "5          Flintstone,Fred\n",
       "6              Garbo,Greta\n",
       "7          Humbert,Humbert\n",
       "8               Ilych,Ivan\n",
       "9              Joyce,James\n",
       "10         Knightley,Keira\n",
       "11               Lane,Lois\n",
       "12              Myers,Mike\n",
       "13              Nolte,Nick\n",
       "14           Osbourne,Ozzy\n",
       "15           Picasso,Pablo\n",
       "16       Quirrell,Quirinus\n",
       "17             Ray,Rachael\n",
       "18          Sarandon,Susan\n",
       "19             Turner,Tina\n",
       "20           Urbina,Ugueth\n",
       "21            Vaughn,Vince\n",
       "22          Wilson,Woodrow\n",
       "23             Yamada,Yoji\n",
       "24         Zidane,Zinedine\n",
       "dtype: object"
      ]
     },
     "execution_count": 42,
     "metadata": {},
     "output_type": "execute_result"
    }
   ],
   "source": [
    "reverse_Series(names)"
   ]
  },
  {
   "cell_type": "code",
   "execution_count": null,
   "metadata": {},
   "outputs": [],
   "source": []
  }
 ],
 "metadata": {
  "kernelspec": {
   "display_name": "Python 3",
   "language": "python",
   "name": "python3"
  },
  "language_info": {
   "codemirror_mode": {
    "name": "ipython",
    "version": 3
   },
   "file_extension": ".py",
   "mimetype": "text/x-python",
   "name": "python",
   "nbconvert_exporter": "python",
   "pygments_lexer": "ipython3",
   "version": "3.6.5"
  }
 },
 "nbformat": 4,
 "nbformat_minor": 2
}
