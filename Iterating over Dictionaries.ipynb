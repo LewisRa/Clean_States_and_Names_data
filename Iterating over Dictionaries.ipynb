{
 "cells": [
  {
   "cell_type": "markdown",
   "metadata": {},
   "source": [
    "## Iterating over Dictionaries"
   ]
  },
  {
   "cell_type": "markdown",
   "metadata": {},
   "source": [
    "The prices of a box of spaghetti of a portion of lasagna and of a hamburger are stored in a dictionary called prices.\n",
    "\n",
    "Jan went to the supermarket and bought six boxes of spaghetti 10 pieces of lasagna and no hamburgers.This data was stored in a dictionary named quantity.\n",
    "\n",
    "Our problem is how much did Jan spend in the supermarket.\n",
    "\n",
    "It is obvious you will need to multiply the quantity of each food by its price.You must have noticed our dictionaries have exactly the same keys. We should exploit this the procedure. \n"
   ]
  },
  {
   "cell_type": "code",
   "execution_count": null,
   "metadata": {},
   "outputs": [],
   "source": [
    "prices = {\n",
    "    \"box_of_spaghetti\" : 4,\n",
    "    \"lasagna\"  : 5,\n",
    "    \"hamburger\" : 2\n",
    "   }\n",
    "quantity = {\n",
    "    \"box_of_spaghetti\" : 6,\n",
    "    \"lasagna\"  : 10,\n",
    "    \"hamburger\" : 0\n",
    "    }\n",
    "\n",
    "money_spent = 0\n",
    "\n",
    "for i in prices:\n",
    "    money_spent = money_spent + (prices[i]*quantity[i])\n",
    "    \n",
    "print (money_spent)"
   ]
  },
  {
   "cell_type": "markdown",
   "metadata": {},
   "source": [
    "NEXT, using the same dictionaries, calculate how much she spent on products with a price of 5 dollars or more."
   ]
  },
  {
   "cell_type": "code",
   "execution_count": 1,
   "metadata": {},
   "outputs": [],
   "source": [
    "prices = {\n",
    "    \"box_of_spaghetti\" : 4,\n",
    "    \"lasagna\"  : 5,\n",
    "    \"hamburger\" : 2\n",
    "   }\n",
    "quantity = {\n",
    "    \"box_of_spaghetti\" : 6,\n",
    "    \"lasagna\"  : 10,\n",
    "    \"hamburger\" : 0\n",
    "    }\n",
    "\n",
    "money_spent = 0"
   ]
  },
  {
   "cell_type": "code",
   "execution_count": 2,
   "metadata": {},
   "outputs": [
    {
     "name": "stdout",
     "output_type": "stream",
     "text": [
      "50\n"
     ]
    }
   ],
   "source": [
    "for i in quantity:\n",
    "    if prices[i]>=5:\n",
    "        money_spent += prices[i]*quantity[i] \n",
    "    else:\n",
    "        money_spent = money_spent\n",
    "\n",
    "print (money_spent)"
   ]
  },
  {
   "cell_type": "markdown",
   "metadata": {},
   "source": [
    "And how much did Jan spent on products that cost less than 5 dollars?"
   ]
  },
  {
   "cell_type": "code",
   "execution_count": 3,
   "metadata": {},
   "outputs": [],
   "source": [
    "prices = {\n",
    "    \"box_of_spaghetti\" : 4,\n",
    "    \"lasagna\"  : 5,\n",
    "    \"hamburger\" : 2\n",
    "   }\n",
    "quantity = {\n",
    "    \"box_of_spaghetti\" : 6,\n",
    "    \"lasagna\"  : 10,\n",
    "    \"hamburger\" : 0\n",
    "    }\n",
    "\n",
    "money_spent = 0"
   ]
  },
  {
   "cell_type": "code",
   "execution_count": 4,
   "metadata": {},
   "outputs": [
    {
     "name": "stdout",
     "output_type": "stream",
     "text": [
      "24\n"
     ]
    }
   ],
   "source": [
    "for i in quantity:\n",
    "    if prices[i]<5:\n",
    "        money_spent += prices[i]*quantity[i] \n",
    "    else:\n",
    "        money_spent = money_spent\n",
    "\n",
    "print (money_spent)"
   ]
  }
 ],
 "metadata": {
  "anaconda-cloud": {},
  "kernelspec": {
   "display_name": "Python 3",
   "language": "python",
   "name": "python3"
  },
  "language_info": {
   "codemirror_mode": {
    "name": "ipython",
    "version": 3
   },
   "file_extension": ".py",
   "mimetype": "text/x-python",
   "name": "python",
   "nbconvert_exporter": "python",
   "pygments_lexer": "ipython3",
   "version": "3.6.5"
  }
 },
 "nbformat": 4,
 "nbformat_minor": 1
}
